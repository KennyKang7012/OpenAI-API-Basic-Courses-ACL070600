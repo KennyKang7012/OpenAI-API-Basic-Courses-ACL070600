{
  "cells": [
    {
      "cell_type": "code",
      "execution_count": null,
      "metadata": {
        "id": "ElRSzScfw2JN"
      },
      "outputs": [],
      "source": [
        "!pip install openai\n",
        "import openai\n",
        "openai.api_key = 'OpenAIAPI金鑰'    # 金鑰"
      ]
    },
    {
      "cell_type": "code",
      "execution_count": 2,
      "metadata": {
        "id": "Ru0VHM4u5a37"
      },
      "outputs": [],
      "source": [
        "dialogue = []      # 對話記錄串列"
      ]
    },
    {
      "cell_type": "code",
      "execution_count": 3,
      "metadata": {
        "id": "4HlHdBqfw4pX"
      },
      "outputs": [],
      "source": [
        "def get_response(dialogue):\n",
        "  response = openai.chat.completions.create(\n",
        "      model = 'gpt-3.5-turbo',\n",
        "      messages = dialogue\n",
        "  )\n",
        "  return response.choices[0].message.content    # 傳出生成回覆文本"
      ]
    },
    {
      "cell_type": "code",
      "execution_count": 9,
      "metadata": {
        "id": "SOeJq5Suw9tV"
      },
      "outputs": [],
      "source": [
        "def chat(ask):\n",
        "  global dialogue                # 宣告dialogue屬於全域變數\n",
        "  dialogue.append({'role':'user','content':ask})          # 存放提問資料\n",
        "  reply = get_response(dialogue)        # 傳入提問資料呼叫函式生成回覆資料\n",
        "  dialogue.append({'role':'assistant','content':reply})   # 存放回覆資料\n",
        "  return reply                          # 傳出回覆文本"
      ]
    },
    {
      "cell_type": "code",
      "execution_count": null,
      "metadata": {
        "id": "A_Cabmq83mVd"
      },
      "outputs": [],
      "source": [
        "answer = chat('台北101大樓的高度為何?')\n",
        "print(f'AI 回覆 : {answer}')\n",
        "print(f'串列內容 : {dialogue}')\n",
        "print(f'串列長度 : {len(dialogue)}')"
      ]
    },
    {
      "cell_type": "code",
      "execution_count": 14,
      "metadata": {
        "id": "w0K_ISOn-nGY"
      },
      "outputs": [],
      "source": [
        "dialogue = []                  # 移除串列所有元素內容"
      ]
    }
  ],
  "metadata": {
    "colab": {
      "provenance": []
    },
    "kernelspec": {
      "display_name": "Python 3",
      "name": "python3"
    },
    "language_info": {
      "name": "python"
    }
  },
  "nbformat": 4,
  "nbformat_minor": 0
}
