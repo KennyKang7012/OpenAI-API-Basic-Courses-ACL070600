{
  "nbformat": 4,
  "nbformat_minor": 0,
  "metadata": {
    "colab": {
      "provenance": []
    },
    "kernelspec": {
      "name": "python3",
      "display_name": "Python 3"
    },
    "language_info": {
      "name": "python"
    }
  },
  "cells": [
    {
      "cell_type": "code",
      "execution_count": null,
      "metadata": {
        "id": "NGuDzJ7e87aS"
      },
      "outputs": [],
      "source": [
        "!pip install openai\n",
        "import openai\n",
        "openai.api_key = 'sk-你的金鑰'"
      ]
    },
    {
      "cell_type": "code",
      "source": [
        "from google.colab import files\n",
        "uploaded = files.upload()"
      ],
      "metadata": {
        "id": "L-WvWoe819jW"
      },
      "execution_count": null,
      "outputs": []
    },
    {
      "cell_type": "code",
      "source": [
        "with open('錄製6.wav', 'rb') as audio_file:\n",
        "  transcript = openai.audio.transcriptions.create(\n",
        "    file=audio_file,\n",
        "    model='whisper-1',\n",
        "    response_format='srt'\n",
        "  )\n",
        "\n",
        "print(transcript)\n",
        "with open('錄製6.srt', 'w') as srt_file:\n",
        "  srt_file.write(transcript)"
      ],
      "metadata": {
        "id": "MR6iyGvjG95m"
      },
      "execution_count": null,
      "outputs": []
    },
    {
      "cell_type": "code",
      "source": [
        "files.download('錄製6.srt')\n"
      ],
      "metadata": {
        "id": "k2vOYy2AXRJK"
      },
      "execution_count": null,
      "outputs": []
    }
  ]
}