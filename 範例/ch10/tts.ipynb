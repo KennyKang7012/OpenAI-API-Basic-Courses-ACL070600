{
  "nbformat": 4,
  "nbformat_minor": 0,
  "metadata": {
    "colab": {
      "provenance": []
    },
    "kernelspec": {
      "name": "python3",
      "display_name": "Python 3"
    },
    "language_info": {
      "name": "python"
    }
  },
  "cells": [
    {
      "cell_type": "code",
      "execution_count": null,
      "metadata": {
        "id": "KXsw8rdDszfa"
      },
      "outputs": [],
      "source": [
        "!pip install openai\n",
        "import openai\n",
        "openai.api_key = 'sk-你的金鑰' # 金鑰\n",
        "speech_file_path = 'speech.mp3'"
      ]
    },
    {
      "cell_type": "code",
      "source": [
        "response = openai.audio.speech.create(\n",
        "  model='tts-1',\n",
        "  voice='alloy',\n",
        "  input='陽明山國家公園內有十餘條登山步道，是一日遊的好去處。'\n",
        ")\n",
        "response.write_to_file(speech_file_path)\n",
        "print('存檔完成!')"
      ],
      "metadata": {
        "id": "CqEB7KHzSJdl"
      },
      "execution_count": null,
      "outputs": []
    },
    {
      "cell_type": "code",
      "source": [
        "!ls"
      ],
      "metadata": {
        "id": "2b-F7rjV6QQP"
      },
      "execution_count": null,
      "outputs": []
    },
    {
      "cell_type": "code",
      "source": [
        "from google.colab import files\n",
        "files.download(speech_file_path)"
      ],
      "metadata": {
        "id": "gBsKU1Tq91qM"
      },
      "execution_count": null,
      "outputs": []
    }
  ]
}