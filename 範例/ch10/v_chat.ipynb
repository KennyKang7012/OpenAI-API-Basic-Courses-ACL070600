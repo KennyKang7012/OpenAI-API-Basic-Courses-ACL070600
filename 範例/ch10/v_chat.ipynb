{
  "nbformat": 4,
  "nbformat_minor": 0,
  "metadata": {
    "colab": {
      "provenance": []
    },
    "kernelspec": {
      "name": "python3",
      "display_name": "Python 3"
    },
    "language_info": {
      "name": "python"
    }
  },
  "cells": [
    {
      "cell_type": "code",
      "execution_count": null,
      "metadata": {
        "id": "xq64yFbgSvQy"
      },
      "outputs": [],
      "source": [
        "!pip install openai\n",
        "!pip install gradio\n",
        "import gradio as gr\n",
        "import openai\n",
        "openai.api_key = 'sk-你的金鑰' # 金鑰"
      ]
    },
    {
      "cell_type": "code",
      "source": [
        "def vchar(input):\n",
        "\n",
        "  ask = openai.chat.completions.create(\n",
        "    model='gpt-3.5-turbo',\n",
        "    messages=[{'role':'user','content':input}],\n",
        "  )\n",
        "  ans = openai.audio.speech.create(\n",
        "    model='tts-1',\n",
        "    voice='alloy',\n",
        "    input=ask.choices[0].message.content\n",
        "  )\n",
        "\n",
        "  ans.write_to_file('ans.mp3')\n",
        "  return 'ans.mp3'\n",
        "\n",
        "demo = gr.Interface(\n",
        "      fn=vchar,\n",
        "      inputs='text',\n",
        "      outputs='audio',\n",
        "      allow_flagging='never',\n",
        "    )\n",
        "demo.launch()"
      ],
      "metadata": {
        "id": "7dtK3BzSFBll"
      },
      "execution_count": null,
      "outputs": []
    }
  ]
}