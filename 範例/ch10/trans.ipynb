{
  "nbformat": 4,
  "nbformat_minor": 0,
  "metadata": {
    "colab": {
      "provenance": []
    },
    "kernelspec": {
      "name": "python3",
      "display_name": "Python 3"
    },
    "language_info": {
      "name": "python"
    }
  },
  "cells": [
    {
      "cell_type": "code",
      "execution_count": null,
      "metadata": {
        "id": "BksJqLHHy0tG"
      },
      "outputs": [],
      "source": [
        "!pip install openai\n",
        "import openai\n",
        "openai.api_key = 'sk-你的金鑰' # 金鑰"
      ]
    },
    {
      "cell_type": "code",
      "source": [
        "from google.colab import files\n",
        "uploaded = files.upload()"
      ],
      "metadata": {
        "id": "mBCAHKsxzcvI"
      },
      "execution_count": null,
      "outputs": []
    },
    {
      "cell_type": "code",
      "source": [
        "with open('speech.mp3', \"rb\") as audio_file:\n",
        "  transcript = openai.audio.translations.create(\n",
        "    model=\"whisper-1\",\n",
        "    file=audio_file,\n",
        "    response_format = 'text'\n",
        "  )\n",
        "print(transcript)"
      ],
      "metadata": {
        "id": "a30HHrW877zs"
      },
      "execution_count": null,
      "outputs": []
    }
  ]
}